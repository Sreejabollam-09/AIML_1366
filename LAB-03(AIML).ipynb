{
  "nbformat": 4,
  "nbformat_minor": 0,
  "metadata": {
    "colab": {
      "provenance": [],
      "authorship_tag": "ABX9TyOPFyQZNATPUenYlettp/48",
      "include_colab_link": true
    },
    "kernelspec": {
      "name": "python3",
      "display_name": "Python 3"
    },
    "language_info": {
      "name": "python"
    }
  },
  "cells": [
    {
      "cell_type": "markdown",
      "metadata": {
        "id": "view-in-github",
        "colab_type": "text"
      },
      "source": [
        "<a href=\"https://colab.research.google.com/github/Sreejabollam-09/AIML_1366/blob/main/LAB-03(AIML).ipynb\" target=\"_parent\"><img src=\"https://colab.research.google.com/assets/colab-badge.svg\" alt=\"Open In Colab\"/></a>"
      ]
    },
    {
      "cell_type": "markdown",
      "source": [
        "                     LAB-03(AIML)\n",
        "\n",
        " Implement the AI Game Strategy\n",
        "Part 1 –(a). Install the Python Libraries required for Game Strategy. [CO2]\n",
        "1. Install the python libraries - collections, random, math, functools,\n",
        "cache = functools.lru cache(10**6)\n",
        "2. Implement a Game Class Constructor using action, is terminal, result, utility functions\n",
        "3. A game is similar to a problem, but it has a terminal test instead of a goal test, and a\n",
        "utility for each terminal state.\n",
        "4. Create a game subclass and implement actions, result, is terminal, and utility.\n",
        "5. You will also need to set the initial attribute to the initial state; this can be done in the\n",
        "constructor.\n"
      ],
      "metadata": {
        "id": "OwA-qWtojewu"
      }
    },
    {
      "cell_type": "code",
      "execution_count": 1,
      "metadata": {
        "id": "gS0GSKg9jNh6"
      },
      "outputs": [],
      "source": [
        "class Game:\n",
        "  def actions(self, state ):\n",
        "         \"\"\"Return a collection of the allowable moves from this state .\"\"\"\n",
        "         raise NotImplementedError\n",
        "  def result(self, state , move ):\n",
        "        \"\"\"Return the state that results from making a move from a state .\"\"\"\n",
        "        raise NotImplementedError\n",
        "  def is_terminal (self, state ):\n",
        "         \"\"\"Return True i f this is a final state for the game.\"\"\"\n",
        "         return not self.actions(state)\n",
        "  def utility(self, state , player ):\n",
        "        \"\"\"Return the value of this final state to player .\"\"\"\n",
        "        raise NotImplementedError"
      ]
    },
    {
      "cell_type": "markdown",
      "source": [
        "Implement a Player Game using the Game Class Constructor."
      ],
      "metadata": {
        "id": "F3TROBbXkj-_"
      }
    },
    {
      "cell_type": "code",
      "source": [
        "def play_game (game , strategies : dict , verbose=False ):\n",
        "      \"\"\"Play a turn−taking game. ‘strategies ‘ is a {player name: function} dict ,\n",
        "      where function(state , game) is used to get the player ’s move.\"\"\"\n",
        "      state = game.initial\n",
        "      while not game.is_terminal (state ):\n",
        "         player = state.to_move\n",
        "         move = strategies [player ](game , state)\n",
        "         state = game.result(state , move)\n",
        "         if verbose:\n",
        "           print('Player', player , 'move:', move)\n",
        "           print(state)\n",
        "           return state"
      ],
      "metadata": {
        "id": "jEaGM_lqjbMa"
      },
      "execution_count": 6,
      "outputs": []
    },
    {
      "cell_type": "markdown",
      "source": [
        "Part 2 – Implement the Game Strategy Algorithms. [CO3]\n",
        "1. Implement the MiniMax Search Algorithm"
      ],
      "metadata": {
        "id": "2UculRPGlWO2"
      }
    },
    {
      "cell_type": "code",
      "source": [],
      "metadata": {
        "id": "SZPcbihTlkaa"
      },
      "execution_count": null,
      "outputs": []
    }
  ]
}