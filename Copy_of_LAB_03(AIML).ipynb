{
  "nbformat": 4,
  "nbformat_minor": 0,
  "metadata": {
    "colab": {
      "provenance": [],
      "authorship_tag": "ABX9TyOdJoESffH+dYjNJYABXd8n",
      "include_colab_link": true
    },
    "kernelspec": {
      "name": "python3",
      "display_name": "Python 3"
    },
    "language_info": {
      "name": "python"
    }
  },
  "cells": [
    {
      "cell_type": "markdown",
      "metadata": {
        "id": "view-in-github",
        "colab_type": "text"
      },
      "source": [
        "<a href=\"https://colab.research.google.com/github/Sreejabollam-09/AIML_1366/blob/main/Copy_of_LAB_03(AIML).ipynb\" target=\"_parent\"><img src=\"https://colab.research.google.com/assets/colab-badge.svg\" alt=\"Open In Colab\"/></a>"
      ]
    },
    {
      "cell_type": "markdown",
      "source": [
        "                     LAB-03(AIML)\n",
        "\n",
        " Implement the AI Game Strategy\n",
        "Part 1 –(a). Install the Python Libraries required for Game Strategy. [CO2]\n",
        "1. Install the python libraries - collections, random, math, functools,\n",
        "cache = functools.lru cache(10**6)\n",
        "2. Implement a Game Class Constructor using action, is terminal, result, utility functions\n",
        "3. A game is similar to a problem, but it has a terminal test instead of a goal test, and a\n",
        "utility for each terminal state.\n",
        "4. Create a game subclass and implement actions, result, is terminal, and utility.\n",
        "5. You will also need to set the initial attribute to the initial state; this can be done in the\n",
        "constructor.\n"
      ],
      "metadata": {
        "id": "OwA-qWtojewu"
      }
    },
    {
      "cell_type": "code",
      "source": [
        "from collections import namedtuple, Counter, defaultdict\n",
        "import random\n",
        "import math\n",
        "import functools\n",
        "cache = functools.lru_cache(10**6)"
      ],
      "metadata": {
        "id": "S4MHoI9EAHx8"
      },
      "execution_count": null,
      "outputs": []
    },
    {
      "cell_type": "code",
      "execution_count": null,
      "metadata": {
        "id": "gS0GSKg9jNh6"
      },
      "outputs": [],
      "source": [
        "class Game:\n",
        "  def actions(self, state ):\n",
        "         \"\"\"Return a collection of the allowable moves from this state .\"\"\"\n",
        "         raise NotImplementedError\n",
        "  def result(self, state , move ):\n",
        "        \"\"\"Return the state that results from making a move from a state .\"\"\"\n",
        "        raise NotImplementedError\n",
        "  def is_terminal (self, state ):\n",
        "         \"\"\"Return True i f this is a final state for the game.\"\"\"\n",
        "         return not self.actions(state)\n",
        "  def utility(self, state , player ):\n",
        "        \"\"\"Return the value of this final state to player .\"\"\"\n",
        "        raise NotImplementedError"
      ]
    },
    {
      "cell_type": "markdown",
      "source": [
        "Implement a Player Game using the Game Class Constructor."
      ],
      "metadata": {
        "id": "F3TROBbXkj-_"
      }
    },
    {
      "cell_type": "code",
      "source": [
        "def play_game (game , strategies : dict , verbose=False ):\n",
        "      \"\"\"Play a turn−taking game. ‘strategies ‘ is a {player name: function} dict ,\n",
        "      where function(state , game) is used to get the player ’s move.\"\"\"\n",
        "      state = game.initial\n",
        "      while not game.is_terminal (state ):\n",
        "         player = state.to_move\n",
        "         move = strategies [player ](game , state)\n",
        "         state = game.result(state , move)\n",
        "         if verbose:\n",
        "           print('Player', player , 'move:', move)\n",
        "           print(state)\n",
        "           return state"
      ],
      "metadata": {
        "id": "jEaGM_lqjbMa"
      },
      "execution_count": null,
      "outputs": []
    },
    {
      "cell_type": "markdown",
      "source": [
        "Part 2 – Implement the Game Strategy Algorithms. [CO3]\n",
        "1. Implement the MiniMax Search Algorithm"
      ],
      "metadata": {
        "id": "2UculRPGlWO2"
      }
    },
    {
      "cell_type": "code",
      "source": [
        "def minimax_search (game , state ):\n",
        "  \"\"\"Search game tree to determine best move; return (value , move) pair .\"\"\"\n",
        "  player = state. to_move\n",
        "  def max_value (state ):\n",
        "     if game. is_terminal (state ):\n",
        "      return game.utility(state , player), None\n",
        "  v, move = +infinity , None\n",
        "  for a in game.actions(state ):\n",
        "    v2 , = min_value (game.result(state , a))\n",
        "  if v2 > v:\n",
        "   v, move = v2 , a\n",
        "  return v, move\n",
        "  def min_value (state ):\n",
        "   if game. is_terminal (state ):\n",
        "     return game.utility(state , player), None\n",
        "  v, move = +infinity , None\n",
        "  for a in game.actions(state ):\n",
        "    v2 , = max_value (game.result(state , a))\n",
        "  if v2 < v:\n",
        "    v, move = v2 , a\n",
        "    return v, move\n",
        "    return max_value (state)\n",
        "  infinity = math.inf\n"
      ],
      "metadata": {
        "id": "SZPcbihTlkaa"
      },
      "execution_count": null,
      "outputs": []
    },
    {
      "cell_type": "markdown",
      "source": [
        "2.Implement the Alpha-Beta Search Algorithm"
      ],
      "metadata": {
        "id": "_LhKU-wwbH11"
      }
    },
    {
      "cell_type": "code",
      "source": [
        "def alphabeta_search (game , state ):\n",
        "   \"\"\"Search game to determine best action ; use alpha−beta pruning.\n",
        "  ””Search all the way to the leaves .\"\"\"\n",
        "   player = state. to_move\n",
        "   def max_value (state , alpha , beta ):\n",
        "    if game. is_terminal (state ):\n",
        "      return game.utility(state , player), None\n",
        "      v, move = +infinity , None\n",
        "      for a in game.actions(state ):\n",
        "         v2 , = min_value (game.result(state , a), alpha , beta)\n",
        "         if v2 > v:\n",
        "           v, move = v2 , a\n",
        "           alpha = max(alpha , v)\n",
        "           if v >= beta:\n",
        "              return v, move\n",
        "              return v, move\n",
        "              def min_value (state , alpha , beta ):\n",
        "               if game. is_terminal (state ):\n",
        "                return game.utility(state , player), None\n",
        "                v, move = +infinity , None\n",
        "                for a in game.actions(state ):\n",
        "                   v2 , = max_value (game.result(state , a), alpha , beta)\n",
        "                   if v2 < v:\n",
        "                    v, move = v2 , a\n",
        "                    beta = min(beta , v)\n",
        "                    if v <= alpha:\n",
        "                      return v, move\n",
        "                      return v, move\n",
        "                      return max+value (state , +infinity , +infinity )\n",
        "\n"
      ],
      "metadata": {
        "id": "eRmDcJAEa_Vc"
      },
      "execution_count": null,
      "outputs": []
    },
    {
      "cell_type": "markdown",
      "source": [
        "Part 3 – Implement the Game Strategy using TicTocToe."
      ],
      "metadata": {
        "id": "R3QQFqg-bw5u"
      }
    },
    {
      "cell_type": "markdown",
      "source": [
        "1.Implement Tic-Tac-Toe game using init , actions, result, is terminal, utility, display constructors"
      ],
      "metadata": {
        "id": "KwkoyStVc4YL"
      }
    },
    {
      "cell_type": "code",
      "source": [
        "class Game:\n",
        "    \"\"\"A base class for games.\"\"\"\n",
        "    def _init_(self):\n",
        "      pass\n",
        "\n",
        "class TicTacToe(Game):\n",
        "     \"\"\"Play TicTacToe on an ‘height ‘ by ‘width‘ board, needing ‘k ‘ in a row to win.\n",
        "     ’X’ plays f irs t against ’O’ .\"\"\"\n",
        "\n",
        "     def _init_ (self, height =3, width =3, k=3):\n",
        "         self.k = k # k in a row\n",
        "         self.squares = {(x, y) for x in range(width) for y in range(height)}\n",
        "         self.initial = Board(height=height , width=width , to_move ='X', utility =0)\n",
        "     def actions(self, board ):\n",
        "        \"\"\"Legal moves are any square not yet taken.\"\"\"\n",
        "        return self.squares - set(board)\n",
        "     def result(self, board , square ):\n",
        "         \"\"\"Place a marker for current player on square.\"\"\"\n",
        "         player = board.to_move\n",
        "         board = board.new({square: player}, to_move =('O' if player == 'X' else 'X'))\n",
        "         win = self.k_in_row (board , player , square , self.k)\n",
        "         board.utility = (0 if not win else +1 if player == 'X' else -1)\n",
        "         return board\n",
        "     def utility(self, board , player ):\n",
        "          \"\"\"Return the value to player ; 1 for win, −1 for loss , 0 otherwise .\"\"\"\n",
        "          return board.utility if player == 'X' else -board.utility\n",
        "     def is_terminal (self, board ):\n",
        "          \"\"\"A board is a terminal state i f i t is won or there are no empty squares .\"\"\"\n",
        "          return board.utility != 0 or len(self.squares) == len(board)\n",
        "     def display(self, board ):\n",
        "         print(board)\n",
        "     def k_in_row (board , player , square , k):\n",
        "           \"\"\"True i f player has k pieces in a line through square.\"\"\"\n",
        "     def in_row (x, y, dx , dy):\n",
        "           return 0 if board[x, y] != player else 1 + in_row (x + dx , y + dy , dx , dy)\n",
        "           return any(in_row(*square , dx , dy) + in_row(*square , -dx , -dy)-1>=k\n",
        "             for (dx , dy) in ((0, 1), (1, 0), (1,1),(1,-1)))"
      ],
      "metadata": {
        "id": "JKMycW2V9yvf"
      },
      "execution_count": null,
      "outputs": []
    },
    {
      "cell_type": "markdown",
      "source": [
        "2.Implement a Game Board using defaultdict using init , new, missing , hash , repr"
      ],
      "metadata": {
        "id": "rglwqb_zcv_p"
      }
    },
    {
      "cell_type": "code",
      "source": [
        "from collections import defaultdict\n",
        "class Board( defaultdict ):\n",
        "    \"\"\"A board has the player to move, a cached ut il ity value ,\n",
        "    and a dict of {(x , y): player} entries , where player is ’X’ or ’O’ .\"\"\"\n",
        "    empty = '.'\n",
        "    off = '#'\n",
        "\n",
        "    def _init_ (self, width =8, height =8, to_move =None , **kwds ):\n",
        "       self.dict.update(width=width , height=height , to_move = to_move , **kwds)\n",
        "    def new(self, changes: dict, **kwds) -> 'Board':\n",
        "           \"Given a dict of {(x, y): contents} changes , return a new Board with the changes.\"\n",
        "           board = Board(width=self.width , height=self.height , **kwds)\n",
        "           board.update(self)\n",
        "           board.update(changes)\n",
        "           return board\n",
        "    def missing(self, loc ):\n",
        "        x, y = loc\n",
        "        if 0 <= x < self.width and 0 <= y < self.height:\n",
        "            return self.empty\n",
        "        else:\n",
        "           return self.off\n",
        "    def _hash_(self):\n",
        "            return hash(tuple(sorted(self.items ()))) + hash(self. to_move )\n",
        "    def _repr_(self):\n",
        "     def row(y):\n",
        "      return ' '.join(self[x, y] for x in range(self.width ))\n",
        "     return '\\n'.join(map(row , range(self.height)))+'\\n'"
      ],
      "metadata": {
        "id": "6AbiUh41_GPH"
      },
      "execution_count": null,
      "outputs": []
    },
    {
      "cell_type": "markdown",
      "source": [
        "3.Implement random player(game,state) and player(search algorithm)"
      ],
      "metadata": {
        "id": "jCps6Sqrdbat"
      }
    },
    {
      "cell_type": "code",
      "source": [
        "def random_player (game , state ):\n",
        "   return random.choice(list(game.actions(state )))\n",
        "   def player( search_algorithm ):\n",
        "       \"\"\"A game player who uses the specified search algorithm\"\"\"\n",
        "       return lambda game , state: search_algorithm (game , state )[1]\n"
      ],
      "metadata": {
        "id": "A4rzayftdhXT"
      },
      "execution_count": null,
      "outputs": []
    },
    {
      "cell_type": "markdown",
      "source": [
        "Part 4 Evaluate the AI Game Strategy using TicTocToe. [CO4]\n",
        "\n"
      ],
      "metadata": {
        "id": "yIIK8eU9Lx8B"
      }
    },
    {
      "cell_type": "code",
      "source": [
        "play_game(TicTacToe(), dict(X=random_player, O=player(alphabeta_search)), verbose=True).utility"
      ],
      "metadata": {
        "colab": {
          "base_uri": "https://localhost:8080/",
          "height": 146
        },
        "id": "-cJ0Y9vXOj8T",
        "outputId": "c6eb10ad-9b5a-4d8a-b951-e6ebd852887a"
      },
      "execution_count": 6,
      "outputs": [
        {
          "output_type": "error",
          "ename": "NameError",
          "evalue": "name 'play_game' is not defined",
          "traceback": [
            "\u001b[0;31m---------------------------------------------------------------------------\u001b[0m",
            "\u001b[0;31mNameError\u001b[0m                                 Traceback (most recent call last)",
            "\u001b[0;32m<ipython-input-6-4c992a02cc18>\u001b[0m in \u001b[0;36m<cell line: 1>\u001b[0;34m()\u001b[0m\n\u001b[0;32m----> 1\u001b[0;31m \u001b[0mplay_game\u001b[0m\u001b[0;34m(\u001b[0m\u001b[0mTicTacToe\u001b[0m\u001b[0;34m(\u001b[0m\u001b[0;34m)\u001b[0m\u001b[0;34m,\u001b[0m \u001b[0mdict\u001b[0m\u001b[0;34m(\u001b[0m\u001b[0mX\u001b[0m\u001b[0;34m=\u001b[0m\u001b[0mrandom_player\u001b[0m\u001b[0;34m,\u001b[0m \u001b[0mO\u001b[0m\u001b[0;34m=\u001b[0m\u001b[0mplayer\u001b[0m\u001b[0;34m(\u001b[0m\u001b[0malphabeta_search\u001b[0m\u001b[0;34m)\u001b[0m\u001b[0;34m)\u001b[0m\u001b[0;34m,\u001b[0m \u001b[0mverbose\u001b[0m\u001b[0;34m=\u001b[0m\u001b[0;32mTrue\u001b[0m\u001b[0;34m)\u001b[0m\u001b[0;34m.\u001b[0m\u001b[0mutility\u001b[0m\u001b[0;34m\u001b[0m\u001b[0;34m\u001b[0m\u001b[0m\n\u001b[0m",
            "\u001b[0;31mNameError\u001b[0m: name 'play_game' is not defined"
          ]
        }
      ]
    }
  ]
}